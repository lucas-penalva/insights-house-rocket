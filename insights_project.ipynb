{
 "cells": [
  {
   "cell_type": "markdown",
   "id": "0017cd1e",
   "metadata": {
    "ExecuteTime": {
     "end_time": "2022-09-14T21:09:26.316539Z",
     "start_time": "2022-09-14T21:09:26.276042Z"
    }
   },
   "source": [
    "## Imports"
   ]
  },
  {
   "cell_type": "code",
   "execution_count": 1,
   "id": "370b8e3f",
   "metadata": {
    "ExecuteTime": {
     "end_time": "2022-09-20T11:48:40.864202Z",
     "start_time": "2022-09-20T11:48:39.072099Z"
    }
   },
   "outputs": [],
   "source": [
    "# import packages\n",
    "import pandas as pd\n",
    "import seaborn as sns\n",
    "import numpy as np\n",
    "\n",
    "pd.set_option('display.float_format', '{:.2f}'.format)\n",
    "pd.options.display.max_columns = 30\n",
    "sns.set(rc = {'figure.figsize':(20,8)});"
   ]
  },
  {
   "cell_type": "code",
   "execution_count": 2,
   "id": "25ea40d5",
   "metadata": {
    "ExecuteTime": {
     "end_time": "2022-09-20T11:48:40.942437Z",
     "start_time": "2022-09-20T11:48:40.868202Z"
    }
   },
   "outputs": [],
   "source": [
    "#load data\n",
    "data = pd.read_csv('kc_house_data.csv')\n",
    "\n",
    "def barplot(a,b,data):\n",
    "    plot = sns.barplot(x=a, y=b, data=data, palette='Greens' )\n",
    "    return plot"
   ]
  },
  {
   "cell_type": "code",
   "execution_count": 3,
   "id": "55f9cad8",
   "metadata": {
    "ExecuteTime": {
     "end_time": "2022-09-20T11:48:40.989441Z",
     "start_time": "2022-09-20T11:48:40.947442Z"
    }
   },
   "outputs": [
    {
     "name": "stdout",
     "output_type": "stream",
     "text": [
      "<class 'pandas.core.frame.DataFrame'>\n",
      "RangeIndex: 21613 entries, 0 to 21612\n",
      "Data columns (total 21 columns):\n",
      " #   Column         Non-Null Count  Dtype  \n",
      "---  ------         --------------  -----  \n",
      " 0   id             21613 non-null  int64  \n",
      " 1   date           21613 non-null  object \n",
      " 2   price          21613 non-null  float64\n",
      " 3   bedrooms       21613 non-null  int64  \n",
      " 4   bathrooms      21613 non-null  float64\n",
      " 5   sqft_living    21613 non-null  int64  \n",
      " 6   sqft_lot       21613 non-null  int64  \n",
      " 7   floors         21613 non-null  float64\n",
      " 8   waterfront     21613 non-null  int64  \n",
      " 9   view           21613 non-null  int64  \n",
      " 10  condition      21613 non-null  int64  \n",
      " 11  grade          21613 non-null  int64  \n",
      " 12  sqft_above     21613 non-null  int64  \n",
      " 13  sqft_basement  21613 non-null  int64  \n",
      " 14  yr_built       21613 non-null  int64  \n",
      " 15  yr_renovated   21613 non-null  int64  \n",
      " 16  zipcode        21613 non-null  int64  \n",
      " 17  lat            21613 non-null  float64\n",
      " 18  long           21613 non-null  float64\n",
      " 19  sqft_living15  21613 non-null  int64  \n",
      " 20  sqft_lot15     21613 non-null  int64  \n",
      "dtypes: float64(5), int64(15), object(1)\n",
      "memory usage: 3.5+ MB\n"
     ]
    }
   ],
   "source": [
    "data.info()"
   ]
  },
  {
   "cell_type": "markdown",
   "id": "07ca3a84",
   "metadata": {},
   "source": [
    "Transformação dos Dados"
   ]
  },
  {
   "cell_type": "code",
   "execution_count": 4,
   "id": "92a639d1",
   "metadata": {
    "ExecuteTime": {
     "end_time": "2022-09-20T11:48:41.019444Z",
     "start_time": "2022-09-20T11:48:40.992445Z"
    }
   },
   "outputs": [],
   "source": [
    "data['date'] = pd.to_datetime(data['date'], format='%Y-%m-%d' )\n",
    "\n",
    "# removendo features sem utilidade\n",
    "data = data.drop(columns = ['sqft_above', 'sqft_living15', 'sqft_lot15'])"
   ]
  },
  {
   "cell_type": "markdown",
   "id": "81fd5270",
   "metadata": {},
   "source": [
    "Limpeza dos Dados"
   ]
  },
  {
   "cell_type": "code",
   "execution_count": 5,
   "id": "0763bb73",
   "metadata": {
    "ExecuteTime": {
     "end_time": "2022-09-20T11:48:41.097884Z",
     "start_time": "2022-09-20T11:48:41.027446Z"
    }
   },
   "outputs": [
    {
     "data": {
      "text/html": [
       "<div>\n",
       "<style scoped>\n",
       "    .dataframe tbody tr th:only-of-type {\n",
       "        vertical-align: middle;\n",
       "    }\n",
       "\n",
       "    .dataframe tbody tr th {\n",
       "        vertical-align: top;\n",
       "    }\n",
       "\n",
       "    .dataframe thead th {\n",
       "        text-align: right;\n",
       "    }\n",
       "</style>\n",
       "<table border=\"1\" class=\"dataframe\">\n",
       "  <thead>\n",
       "    <tr style=\"text-align: right;\">\n",
       "      <th></th>\n",
       "      <th>id</th>\n",
       "      <th>date</th>\n",
       "      <th>price</th>\n",
       "      <th>bedrooms</th>\n",
       "      <th>bathrooms</th>\n",
       "      <th>sqft_living</th>\n",
       "      <th>sqft_lot</th>\n",
       "      <th>floors</th>\n",
       "      <th>waterfront</th>\n",
       "      <th>view</th>\n",
       "      <th>condition</th>\n",
       "      <th>grade</th>\n",
       "      <th>sqft_basement</th>\n",
       "      <th>yr_built</th>\n",
       "      <th>yr_renovated</th>\n",
       "      <th>zipcode</th>\n",
       "      <th>lat</th>\n",
       "      <th>long</th>\n",
       "    </tr>\n",
       "  </thead>\n",
       "  <tbody>\n",
       "    <tr>\n",
       "      <th>15870</th>\n",
       "      <td>2402100895</td>\n",
       "      <td>2014-06-25</td>\n",
       "      <td>640000.00</td>\n",
       "      <td>33</td>\n",
       "      <td>1.75</td>\n",
       "      <td>1620</td>\n",
       "      <td>6000</td>\n",
       "      <td>1.00</td>\n",
       "      <td>0</td>\n",
       "      <td>0</td>\n",
       "      <td>5</td>\n",
       "      <td>7</td>\n",
       "      <td>580</td>\n",
       "      <td>1947</td>\n",
       "      <td>0</td>\n",
       "      <td>98103</td>\n",
       "      <td>47.69</td>\n",
       "      <td>-122.33</td>\n",
       "    </tr>\n",
       "  </tbody>\n",
       "</table>\n",
       "</div>"
      ],
      "text/plain": [
       "               id       date     price  bedrooms  bathrooms  sqft_living  \\\n",
       "15870  2402100895 2014-06-25 640000.00        33       1.75         1620   \n",
       "\n",
       "       sqft_lot  floors  waterfront  view  condition  grade  sqft_basement  \\\n",
       "15870      6000    1.00           0     0          5      7            580   \n",
       "\n",
       "       yr_built  yr_renovated  zipcode   lat    long  \n",
       "15870      1947             0    98103 47.69 -122.33  "
      ]
     },
     "execution_count": 5,
     "metadata": {},
     "output_type": "execute_result"
    }
   ],
   "source": [
    "data[data['bedrooms'] == 33]"
   ]
  },
  {
   "cell_type": "markdown",
   "id": "1311bfa8",
   "metadata": {},
   "source": [
    "Pela Tabela Descritiva nota-se que o há um imóvel com 33 quartos, no entanto seu preço e área de lote estão próximos dos valores médios, ou seja, seus valores estão distantes dos esperados para um imóvel dessas proporções. Assumiremos então, que houve um erro de digitação e o imóvel será removido do dataset."
   ]
  },
  {
   "cell_type": "code",
   "execution_count": 6,
   "id": "a06fa0d2",
   "metadata": {
    "ExecuteTime": {
     "end_time": "2022-09-20T11:48:41.113885Z",
     "start_time": "2022-09-20T11:48:41.102886Z"
    }
   },
   "outputs": [],
   "source": [
    "data = data.drop(data[data['bedrooms'] == 33].index)"
   ]
  },
  {
   "cell_type": "markdown",
   "id": "cdc6d8bc",
   "metadata": {},
   "source": [
    "## Análise Descritiva dos Dados"
   ]
  },
  {
   "cell_type": "markdown",
   "id": "09de64b1",
   "metadata": {},
   "source": [
    "Estatística Descritiva"
   ]
  },
  {
   "cell_type": "code",
   "execution_count": 7,
   "id": "c5842456",
   "metadata": {
    "ExecuteTime": {
     "end_time": "2022-09-20T11:48:41.193890Z",
     "start_time": "2022-09-20T11:48:41.115887Z"
    }
   },
   "outputs": [
    {
     "data": {
      "text/html": [
       "<div>\n",
       "<style scoped>\n",
       "    .dataframe tbody tr th:only-of-type {\n",
       "        vertical-align: middle;\n",
       "    }\n",
       "\n",
       "    .dataframe tbody tr th {\n",
       "        vertical-align: top;\n",
       "    }\n",
       "\n",
       "    .dataframe thead th {\n",
       "        text-align: right;\n",
       "    }\n",
       "</style>\n",
       "<table border=\"1\" class=\"dataframe\">\n",
       "  <thead>\n",
       "    <tr style=\"text-align: right;\">\n",
       "      <th></th>\n",
       "      <th>attributes</th>\n",
       "      <th>maximum</th>\n",
       "      <th>minimum</th>\n",
       "      <th>mean</th>\n",
       "      <th>median</th>\n",
       "      <th>std</th>\n",
       "    </tr>\n",
       "  </thead>\n",
       "  <tbody>\n",
       "    <tr>\n",
       "      <th>0</th>\n",
       "      <td>id</td>\n",
       "      <td>9900000190.00</td>\n",
       "      <td>1000102.00</td>\n",
       "      <td>4580402307.49</td>\n",
       "      <td>3904930470.00</td>\n",
       "      <td>2876527410.33</td>\n",
       "    </tr>\n",
       "    <tr>\n",
       "      <th>1</th>\n",
       "      <td>price</td>\n",
       "      <td>7700000.00</td>\n",
       "      <td>75000.00</td>\n",
       "      <td>540083.52</td>\n",
       "      <td>450000.00</td>\n",
       "      <td>367126.57</td>\n",
       "    </tr>\n",
       "    <tr>\n",
       "      <th>2</th>\n",
       "      <td>bedrooms</td>\n",
       "      <td>11.00</td>\n",
       "      <td>0.00</td>\n",
       "      <td>3.37</td>\n",
       "      <td>3.00</td>\n",
       "      <td>0.91</td>\n",
       "    </tr>\n",
       "    <tr>\n",
       "      <th>3</th>\n",
       "      <td>bathrooms</td>\n",
       "      <td>8.00</td>\n",
       "      <td>0.00</td>\n",
       "      <td>2.11</td>\n",
       "      <td>2.25</td>\n",
       "      <td>0.77</td>\n",
       "    </tr>\n",
       "    <tr>\n",
       "      <th>4</th>\n",
       "      <td>sqft_living</td>\n",
       "      <td>13540.00</td>\n",
       "      <td>290.00</td>\n",
       "      <td>2079.92</td>\n",
       "      <td>1910.00</td>\n",
       "      <td>918.44</td>\n",
       "    </tr>\n",
       "    <tr>\n",
       "      <th>5</th>\n",
       "      <td>sqft_lot</td>\n",
       "      <td>1651359.00</td>\n",
       "      <td>520.00</td>\n",
       "      <td>15107.39</td>\n",
       "      <td>7619.00</td>\n",
       "      <td>41420.47</td>\n",
       "    </tr>\n",
       "    <tr>\n",
       "      <th>6</th>\n",
       "      <td>floors</td>\n",
       "      <td>3.50</td>\n",
       "      <td>1.00</td>\n",
       "      <td>1.49</td>\n",
       "      <td>1.50</td>\n",
       "      <td>0.54</td>\n",
       "    </tr>\n",
       "    <tr>\n",
       "      <th>7</th>\n",
       "      <td>waterfront</td>\n",
       "      <td>1.00</td>\n",
       "      <td>0.00</td>\n",
       "      <td>0.01</td>\n",
       "      <td>0.00</td>\n",
       "      <td>0.09</td>\n",
       "    </tr>\n",
       "    <tr>\n",
       "      <th>8</th>\n",
       "      <td>view</td>\n",
       "      <td>4.00</td>\n",
       "      <td>0.00</td>\n",
       "      <td>0.23</td>\n",
       "      <td>0.00</td>\n",
       "      <td>0.77</td>\n",
       "    </tr>\n",
       "    <tr>\n",
       "      <th>9</th>\n",
       "      <td>condition</td>\n",
       "      <td>5.00</td>\n",
       "      <td>1.00</td>\n",
       "      <td>3.41</td>\n",
       "      <td>3.00</td>\n",
       "      <td>0.65</td>\n",
       "    </tr>\n",
       "    <tr>\n",
       "      <th>10</th>\n",
       "      <td>grade</td>\n",
       "      <td>13.00</td>\n",
       "      <td>1.00</td>\n",
       "      <td>7.66</td>\n",
       "      <td>7.00</td>\n",
       "      <td>1.18</td>\n",
       "    </tr>\n",
       "    <tr>\n",
       "      <th>11</th>\n",
       "      <td>sqft_basement</td>\n",
       "      <td>4820.00</td>\n",
       "      <td>0.00</td>\n",
       "      <td>291.50</td>\n",
       "      <td>0.00</td>\n",
       "      <td>442.57</td>\n",
       "    </tr>\n",
       "    <tr>\n",
       "      <th>12</th>\n",
       "      <td>yr_built</td>\n",
       "      <td>2015.00</td>\n",
       "      <td>1900.00</td>\n",
       "      <td>1971.01</td>\n",
       "      <td>1975.00</td>\n",
       "      <td>29.37</td>\n",
       "    </tr>\n",
       "    <tr>\n",
       "      <th>13</th>\n",
       "      <td>yr_renovated</td>\n",
       "      <td>2015.00</td>\n",
       "      <td>0.00</td>\n",
       "      <td>84.41</td>\n",
       "      <td>0.00</td>\n",
       "      <td>401.68</td>\n",
       "    </tr>\n",
       "  </tbody>\n",
       "</table>\n",
       "</div>"
      ],
      "text/plain": [
       "       attributes       maximum    minimum          mean        median  \\\n",
       "0              id 9900000190.00 1000102.00 4580402307.49 3904930470.00   \n",
       "1           price    7700000.00   75000.00     540083.52     450000.00   \n",
       "2        bedrooms         11.00       0.00          3.37          3.00   \n",
       "3       bathrooms          8.00       0.00          2.11          2.25   \n",
       "4     sqft_living      13540.00     290.00       2079.92       1910.00   \n",
       "5        sqft_lot    1651359.00     520.00      15107.39       7619.00   \n",
       "6          floors          3.50       1.00          1.49          1.50   \n",
       "7      waterfront          1.00       0.00          0.01          0.00   \n",
       "8            view          4.00       0.00          0.23          0.00   \n",
       "9       condition          5.00       1.00          3.41          3.00   \n",
       "10          grade         13.00       1.00          7.66          7.00   \n",
       "11  sqft_basement       4820.00       0.00        291.50          0.00   \n",
       "12       yr_built       2015.00    1900.00       1971.01       1975.00   \n",
       "13   yr_renovated       2015.00       0.00         84.41          0.00   \n",
       "\n",
       "             std  \n",
       "0  2876527410.33  \n",
       "1      367126.57  \n",
       "2           0.91  \n",
       "3           0.77  \n",
       "4         918.44  \n",
       "5       41420.47  \n",
       "6           0.54  \n",
       "7           0.09  \n",
       "8           0.77  \n",
       "9           0.65  \n",
       "10          1.18  \n",
       "11        442.57  \n",
       "12         29.37  \n",
       "13        401.68  "
      ]
     },
     "execution_count": 7,
     "metadata": {},
     "output_type": "execute_result"
    }
   ],
   "source": [
    "num_attibutes = data.select_dtypes( include= ['int64','float64'])\n",
    "num_attibutes = num_attibutes.drop(columns=['zipcode', 'lat','long'])\n",
    "\n",
    "# central tendency : mean and median\n",
    "mean = pd.DataFrame(num_attibutes.apply(np.mean, axis=0))\n",
    "median = pd.DataFrame(num_attibutes.apply(np.median, axis=0))\n",
    "\n",
    "# dispersion tendency: std, min and max\n",
    "std = pd.DataFrame(num_attibutes.apply(np.std, axis=0))\n",
    "min_ = pd.DataFrame(num_attibutes.apply(np.min, axis=0))\n",
    "max_ = pd.DataFrame(num_attibutes.apply(np.max, axis=0))\n",
    "\n",
    "att = pd.concat((max_, min_, mean, median,std), axis=1).reset_index()\n",
    "att.columns = ('attributes','maximum','minimum','mean', 'median','std')\n",
    "att"
   ]
  },
  {
   "cell_type": "markdown",
   "id": "7dedd57e",
   "metadata": {},
   "source": [
    "## Feature Engineering"
   ]
  },
  {
   "cell_type": "code",
   "execution_count": 8,
   "id": "9da79a19",
   "metadata": {
    "ExecuteTime": {
     "end_time": "2022-09-20T11:48:41.257895Z",
     "start_time": "2022-09-20T11:48:41.197892Z"
    }
   },
   "outputs": [],
   "source": [
    "df = data.copy()\n",
    "\n",
    "# Ano de construção\n",
    "df['year'] = df['yr_built'].apply(lambda x: 'before_1955' if x < 1955 else 'after_1955')\n",
    "\n",
    "# Imóveis com porão ou sem\n",
    "df['porao'] = df['sqft_basement'].apply(lambda x: 'com_porao' if x > 0 else 'sem_porao')\n",
    "\n",
    "\n",
    "#separando os meses para coletar cada estação do ano\n",
    "df['month'] = df.date.dt.month\n",
    "\n",
    "# criação de uma nova feature, indicando as estações do ano\n",
    "df['season'] = df['month'].apply(lambda x: 'Summer' if 6 <= x <= 8 else 'Fall' if 9 <= x <= 11 else 'Winter' if (x == 12) or (x == 1) or (x == 2) else 'Spring' if 3 <= x <= 5 else None)\n",
    "\n",
    "# reforma\n",
    "\n",
    "df['renovated'] = df['yr_renovated'].apply(lambda x: 'no' if x == 0\n",
    "        else 'yes')\n",
    "\n",
    "# criar um 'describe' para condição, para acrescentar no relatório\n",
    "\n",
    "df['describe_condition'] = df['condition'].apply(lambda x: 'too bad' if x == 1 else\n",
    "                                                         'bad' if x == 2 else\n",
    "                                                         'median'if x == 3 else\n",
    "                                                         'good' if x == 4 else\n",
    "                                                         'excellent')"
   ]
  },
  {
   "cell_type": "markdown",
   "id": "412ee9ce",
   "metadata": {},
   "source": [
    "## Insights"
   ]
  },
  {
   "cell_type": "code",
   "execution_count": 9,
   "id": "5030f2c5",
   "metadata": {
    "ExecuteTime": {
     "end_time": "2022-09-20T11:48:41.540824Z",
     "start_time": "2022-09-20T11:48:41.264897Z"
    }
   },
   "outputs": [
    {
     "name": "stdout",
     "output_type": "stream",
     "text": [
      "A hipótese é verdadeira. Imóveis que possuem vista para água são, em média, 212.64% mais caros que os demais.\n"
     ]
    },
    {
     "data": {
      "image/png": "[encoded data removed]",
      "text/plain": [
       "<Figure size 1440x576 with 1 Axes>"
      ]
     },
     "metadata": {},
     "output_type": "display_data"
    }
   ],
   "source": [
    "#H1: Imóveis que possuem vista para água, são 30% mais caros, na média.\n",
    "h1 = df[['price', 'waterfront']].groupby('waterfront').mean().reset_index()\n",
    "h1['percentage'] = h1['price'].pct_change()*100\n",
    "\n",
    "barplot('waterfront', 'price', data=h1)\n",
    "\n",
    "result = ''\n",
    "if h1.loc[1, 'percentage'] > 30:\n",
    "    result = 'verdadeira'\n",
    "else: 'falsa'\n",
    "\n",
    "print('A hipótese é {:}. Imóveis que possuem vista para água são, em média, {:.2f}% mais caros que os demais.'\n",
    "      .format(result, h1.loc[1,'percentage']))"
   ]
  },
  {
   "cell_type": "code",
   "execution_count": 10,
   "id": "7937fe50",
   "metadata": {
    "ExecuteTime": {
     "end_time": "2022-09-20T11:48:41.716343Z",
     "start_time": "2022-09-20T11:48:41.542824Z"
    }
   },
   "outputs": [
    {
     "name": "stdout",
     "output_type": "stream",
     "text": [
      "A hipótese é falsa. Imóveis construídos antes do ano de 1955 são, em média, 0.79% mais baratos que os demais.\n"
     ]
    },
    {
     "data": {
      "image/png": "[encoded data removed]",
      "text/plain": [
       "<Figure size 1440x576 with 1 Axes>"
      ]
     },
     "metadata": {},
     "output_type": "display_data"
    }
   ],
   "source": [
    "#H2 Imóveis com data de construção menor que 1955, são 50% mais baratos, na média.\n",
    "h2 = df[['year', 'price']].groupby('year').mean().reset_index()\n",
    "\n",
    "barplot('year', 'price', data=h2);\n",
    "\n",
    "h2['percent'] = h2['price'].pct_change()*-100\n",
    "\n",
    "result = ''\n",
    "if h2.loc[1, 'percent'] > 50:\n",
    "    result = 'verdadeira'\n",
    "else: result= 'falsa'\n",
    "\n",
    "print('A hipótese é {:}. Imóveis construídos antes do ano de 1955 são, em média, {:.2f}% mais baratos que os demais.'\n",
    "      .format(result, h2.loc[1,'percent']))"
   ]
  },
  {
   "cell_type": "code",
   "execution_count": 11,
   "id": "c4b55d4c",
   "metadata": {
    "ExecuteTime": {
     "end_time": "2022-09-20T11:48:41.956360Z",
     "start_time": "2022-09-20T11:48:41.719342Z"
    }
   },
   "outputs": [
    {
     "name": "stdout",
     "output_type": "stream",
     "text": [
      "A hipótese é falsa. Imóveis sem porão, são, em média, 22.56% maiores que os demais.\n"
     ]
    },
    {
     "data": {
      "image/png": "[encoded data removed]",
      "text/plain": [
       "<Figure size 1440x576 with 1 Axes>"
      ]
     },
     "metadata": {},
     "output_type": "display_data"
    }
   ],
   "source": [
    "#H3: Imóveis sem porão possuem área total 40% maior que os imóveis com porão.\n",
    "\n",
    "h3 = df[['porao', 'sqft_lot']].groupby('porao').mean().reset_index()\n",
    "\n",
    "barplot('porao', 'sqft_lot', data=h3);\n",
    "\n",
    "h3['percentage'] = h3['sqft_lot'].pct_change()*100\n",
    "result = ''\n",
    "if h3.loc[1, 'percentage'] > 40:\n",
    "    result = 'verdadeira'\n",
    "else: result= 'falsa'\n",
    "\n",
    "print('A hipótese é {:}. Imóveis sem porão, são, em média, {:.2f}% maiores que os demais.'\n",
    "      .format(result, h3.loc[1,'percentage']))"
   ]
  },
  {
   "cell_type": "code",
   "execution_count": 12,
   "id": "7a15c8bd",
   "metadata": {
    "ExecuteTime": {
     "end_time": "2022-09-20T11:48:42.336390Z",
     "start_time": "2022-09-20T11:48:41.959358Z"
    }
   },
   "outputs": [
    {
     "name": "stdout",
     "output_type": "stream",
     "text": [
      "A hipótese é falsa. O crescimento do preço dos imóveis entre os anos, é em média, 0.52% maior.\n"
     ]
    },
    {
     "data": {
      "image/png": "[encoded data removed]",
      "text/plain": [
       "<Figure size 1440x576 with 1 Axes>"
      ]
     },
     "metadata": {},
     "output_type": "display_data"
    }
   ],
   "source": [
    "#H4 O crescimento do preço dos imóveis YoY ( Year over Year ) é de 10%.\n",
    "\n",
    "df['year_over_year'] = df['date'].dt.strftime('%Y')\n",
    "\n",
    "h4 = df[['year_over_year', 'price']].groupby('year_over_year').mean().reset_index()\n",
    "\n",
    "barplot('year_over_year', 'price', data= h4);\n",
    "\n",
    "h4['percentage'] = h4['price'].pct_change()*100\n",
    "result = ''\n",
    "if h4.loc[1, 'percentage'] > 15:\n",
    "    result = 'verdadeira'\n",
    "else: result= 'falsa'\n",
    "\n",
    "print('A hipótese é {:}. O crescimento do preço dos imóveis entre os anos, é em média, {:.2f}% maior.'\n",
    "      .format(result, h4.loc[1,'percentage']))"
   ]
  },
  {
   "cell_type": "code",
   "execution_count": 13,
   "id": "d3559c92",
   "metadata": {
    "ExecuteTime": {
     "end_time": "2022-09-20T11:48:42.544541Z",
     "start_time": "2022-09-20T11:48:42.339390Z"
    }
   },
   "outputs": [
    {
     "name": "stdout",
     "output_type": "stream",
     "text": [
      "A hipótese é verdadeira. Imóveis com nível elevado de design e construção são 227.21% mais caros que os demais, em média.\n"
     ]
    },
    {
     "data": {
      "image/png": "[encoded data removed]",
      "text/plain": [
       "<Figure size 1440x576 with 1 Axes>"
      ]
     },
     "metadata": {},
     "output_type": "display_data"
    }
   ],
   "source": [
    "#H5 Imóveis com design de maior qualidade em média são mais caros\n",
    "df['design_grade'] = df['grade'].apply(lambda x: 'High' if x > 10 else 'Average or low')\n",
    "                                       \n",
    "h5 = df[['design_grade', 'price']].groupby('design_grade').mean().reset_index()\n",
    "h5['pct'] = h5['price'].pct_change()*100\n",
    "\n",
    "barplot('design_grade', 'price', data=h5);\n",
    "\n",
    "result = ''\n",
    "if h5.loc[1, 'pct'] > 50:\n",
    "    result = 'verdadeira'\n",
    "else: \n",
    "    result = 'falsa'\n",
    "\n",
    "print('A hipótese é {:}. Imóveis com nível elevado de design e construção são {:.2f}% mais caros que os demais, em média.'\n",
    "      .format(result, h5.loc[1,'pct'])) "
   ]
  },
  {
   "cell_type": "code",
   "execution_count": 14,
   "id": "db0ebbb0",
   "metadata": {
    "ExecuteTime": {
     "end_time": "2022-09-20T11:48:42.765558Z",
     "start_time": "2022-09-20T11:48:42.548543Z"
    }
   },
   "outputs": [
    {
     "name": "stdout",
     "output_type": "stream",
     "text": [
      "A hipótese é verdadeira. Imóveis com 3 ou mais vistas, são, em média, 125.34% mais caros que os demais.\n"
     ]
    },
    {
     "data": {
      "image/png": "[encoded data removed]",
      "text/plain": [
       "<Figure size 1440x576 with 1 Axes>"
      ]
     },
     "metadata": {},
     "output_type": "display_data"
    }
   ],
   "source": [
    "#H6 Imóveis que possuem três ou mais vistas são em média 50% mais caros que os demais\n",
    "df['price_view'] = df['view'].apply(lambda x: 'more than 3' if x >=3 else 'less than 3')\n",
    "h6= df[['price_view', 'price']].groupby('price_view').mean().reset_index()\n",
    "h6['percentage'] = h6['price'].pct_change()*100\n",
    "\n",
    "barplot('price_view', 'price', data=h6);\n",
    "\n",
    "result = ''\n",
    "if h6.loc[1, 'percentage'] > 25:\n",
    "    result = 'verdadeira'\n",
    "else: result= 'falsa'\n",
    "\n",
    "print('A hipótese é {:}. Imóveis com 3 ou mais vistas, são, em média, {:.2f}% mais caros que os demais.'\n",
    "      .format(result, h6.loc[1,'percentage']))"
   ]
  },
  {
   "cell_type": "code",
   "execution_count": 15,
   "id": "b76b3c7d",
   "metadata": {
    "ExecuteTime": {
     "end_time": "2022-09-20T11:48:42.971573Z",
     "start_time": "2022-09-20T11:48:42.768559Z"
    }
   },
   "outputs": [
    {
     "name": "stdout",
     "output_type": "stream",
     "text": [
      "A hipótese é verdadeira. Imóveis com 2 ou mais andares, são, em média, 29.46% mais caros que os demais.\n"
     ]
    },
    {
     "data": {
      "image/png": "[encoded data removed]",
      "text/plain": [
       "<Figure size 1440x576 with 1 Axes>"
      ]
     },
     "metadata": {},
     "output_type": "display_data"
    }
   ],
   "source": [
    "#H7: Imóveis com 2 mais ou andares são 25% mais caros em média\n",
    "\n",
    "df['price_floors'] = df['floors'].apply(lambda x: \"2 ou mais\" if x >= 2 else \"Menos de 2\")\n",
    "h7 = df[['price_floors', 'price']].groupby('price_floors').mean().reset_index()\n",
    "h7['percentage'] = h7['price'].pct_change()*-100\n",
    "\n",
    "barplot('price_floors', 'price', data=h7);\n",
    "\n",
    "result = ''\n",
    "if h7.loc[1, 'percentage'] > 25:\n",
    "    result = 'verdadeira'\n",
    "else: result= 'falsa'\n",
    "\n",
    "print('A hipótese é {:}. Imóveis com 2 ou mais andares, são, em média, {:.2f}% mais caros que os demais.'\n",
    "      .format(result, h7.loc[1,'percentage']))"
   ]
  },
  {
   "cell_type": "code",
   "execution_count": 16,
   "id": "d88ae4ff",
   "metadata": {
    "ExecuteTime": {
     "end_time": "2022-09-20T11:48:43.179590Z",
     "start_time": "2022-09-20T11:48:42.974575Z"
    }
   },
   "outputs": [
    {
     "name": "stdout",
     "output_type": "stream",
     "text": [
      "A hipótese é verdadeira. Imóveis com reforma, são, em média, 43.37% mais caros.\n"
     ]
    },
    {
     "data": {
      "image/png": "[encoded data removed]",
      "text/plain": [
       "<Figure size 1440x576 with 1 Axes>"
      ]
     },
     "metadata": {},
     "output_type": "display_data"
    }
   ],
   "source": [
    "#H8: Imóveis com reforma, são em média 25% mais caros\n",
    "\n",
    "h8 = df[['renovated','price']].groupby('renovated').mean().reset_index()\n",
    "\n",
    "barplot('renovated', 'price', data=h8);\n",
    "\n",
    "h8['percentage'] = h8['price'].pct_change()*100\n",
    "\n",
    "result = ''\n",
    "if h8.loc[1, 'percentage'] > 25:\n",
    "    result = 'verdadeira'\n",
    "else: result= 'falsa'\n",
    "\n",
    "print('A hipótese é {:}. Imóveis com reforma, são, em média, {:.2f}% mais caros.'\n",
    "      .format(result, h8.loc[1,'percentage']))"
   ]
  },
  {
   "cell_type": "markdown",
   "id": "93995eb6",
   "metadata": {},
   "source": [
    "## Quais são os negócios que a House Rocket deveria comprar e por qual preço?"
   ]
  },
  {
   "cell_type": "code",
   "execution_count": 17,
   "id": "4471d13c",
   "metadata": {
    "ExecuteTime": {
     "end_time": "2022-09-20T11:48:43.211590Z",
     "start_time": "2022-09-20T11:48:43.182590Z"
    }
   },
   "outputs": [],
   "source": [
    "df1 = df.copy()"
   ]
  },
  {
   "cell_type": "code",
   "execution_count": 18,
   "id": "3727edfa",
   "metadata": {
    "ExecuteTime": {
     "end_time": "2022-09-20T11:48:43.227593Z",
     "start_time": "2022-09-20T11:48:43.213592Z"
    }
   },
   "outputs": [],
   "source": [
    "df_grouped = df1[['zipcode', 'price']].groupby('zipcode').median().reset_index()\n",
    "\n",
    "df_grouped = df_grouped.rename(columns={'price': 'median_price'})"
   ]
  },
  {
   "cell_type": "code",
   "execution_count": 19,
   "id": "b97c8f5c",
   "metadata": {
    "ExecuteTime": {
     "end_time": "2022-09-20T11:48:43.275595Z",
     "start_time": "2022-09-20T11:48:43.229595Z"
    }
   },
   "outputs": [],
   "source": [
    "# agregando o df1 com o df_grouped, alocando cada preço mediano em cada linha, através do zipcode\n",
    "df1 = pd.merge(df1, df_grouped, on='zipcode', how='inner')"
   ]
  },
  {
   "cell_type": "code",
   "execution_count": 20,
   "id": "63779ae8",
   "metadata": {
    "ExecuteTime": {
     "end_time": "2022-09-20T11:48:56.757685Z",
     "start_time": "2022-09-20T11:48:43.277597Z"
    }
   },
   "outputs": [],
   "source": [
    "# criando feature 'status' que recomenda qual o imóvel a house rocket deve comprar ou não\n",
    "for i in range(len(df1)):\n",
    "    \n",
    "    if ((df1.loc[i, 'price']) < (df1.loc[i, 'median_price'])) & (df1.loc[i, 'condition'] >= 3):\n",
    "        df1.loc[i, 'status'] = 'buy'\n",
    "    else:\n",
    "        df1.loc[i, 'status'] = 'not buy'        "
   ]
  },
  {
   "cell_type": "code",
   "execution_count": 21,
   "id": "50d2ecad",
   "metadata": {
    "ExecuteTime": {
     "end_time": "2022-09-20T11:48:56.805220Z",
     "start_time": "2022-09-20T11:48:56.759686Z"
    }
   },
   "outputs": [
    {
     "name": "stdout",
     "output_type": "stream",
     "text": [
      "Foram encontrados 10579 imóveis dentro das condições acima, sugeridos para compra\n"
     ]
    }
   ],
   "source": [
    "# criar relatório com apenas as colunas de interesse, ordenando do menor preço para o maior, considerando as melhores condições de imóveis para compra\n",
    "buy_houses = df1[df1['status'] == 'buy'].sort_values(by=['describe_condition','price'])\n",
    "buy_houses[['id','zipcode','price','median_price','condition']].head()\n",
    "\n",
    "print('Foram encontrados {} imóveis dentro das condições acima, sugeridos para compra'.format(len(buy_houses)))"
   ]
  },
  {
   "cell_type": "markdown",
   "id": "1a3b935f",
   "metadata": {},
   "source": [
    "## Uma vez o imóvel comprado, qual o melhor momento para vendê-lo e por qual preço?"
   ]
  },
  {
   "cell_type": "code",
   "execution_count": 22,
   "id": "707427d8",
   "metadata": {
    "ExecuteTime": {
     "end_time": "2022-09-20T11:48:56.821219Z",
     "start_time": "2022-09-20T11:48:56.808220Z"
    }
   },
   "outputs": [],
   "source": [
    "df2 = df1.copy()"
   ]
  },
  {
   "cell_type": "code",
   "execution_count": 23,
   "id": "fceef1eb",
   "metadata": {
    "ExecuteTime": {
     "end_time": "2022-09-20T11:49:11.281824Z",
     "start_time": "2022-09-20T11:48:56.824220Z"
    }
   },
   "outputs": [],
   "source": [
    "# Condições de venda:\n",
    "# 1. Se o preço da compra for maior que a mediana da região + sazonalidade.\n",
    "# O preço da venda será igual ao preço da compra + 10%\n",
    "# 2. Se o preço da compra for menor que a mediana da região + sazonalidade.\n",
    "# O preço da venda será igual ao preço da compra + 30%\n",
    "\n",
    "df2['selling_price'] = 'NA'\n",
    "for i in range(len(df2)):\n",
    "    \n",
    "    if df2.loc[i, 'price'] > df2.loc[i, 'median_price']:\n",
    "        df2.loc[i, 'selling_price'] = (df2.loc[i, 'price'] * 1.10)\n",
    "        \n",
    "    else: \n",
    "        df2.loc[i, 'selling_price'] = (df2.loc[i, 'price'] * 1.30)     "
   ]
  },
  {
   "cell_type": "code",
   "execution_count": 24,
   "id": "2fe84302",
   "metadata": {
    "ExecuteTime": {
     "end_time": "2022-09-20T11:49:11.313537Z",
     "start_time": "2022-09-20T11:49:11.287826Z"
    }
   },
   "outputs": [],
   "source": [
    "#calculando o lucro\n",
    "df2['profit'] = df2['selling_price'] - df2['price']"
   ]
  },
  {
   "cell_type": "code",
   "execution_count": 25,
   "id": "12ff3787",
   "metadata": {
    "ExecuteTime": {
     "end_time": "2022-09-20T11:49:11.361537Z",
     "start_time": "2022-09-20T11:49:11.317534Z"
    }
   },
   "outputs": [
    {
     "data": {
      "text/html": [
       "<div>\n",
       "<style scoped>\n",
       "    .dataframe tbody tr th:only-of-type {\n",
       "        vertical-align: middle;\n",
       "    }\n",
       "\n",
       "    .dataframe tbody tr th {\n",
       "        vertical-align: top;\n",
       "    }\n",
       "\n",
       "    .dataframe thead th {\n",
       "        text-align: right;\n",
       "    }\n",
       "</style>\n",
       "<table border=\"1\" class=\"dataframe\">\n",
       "  <thead>\n",
       "    <tr style=\"text-align: right;\">\n",
       "      <th></th>\n",
       "      <th>id</th>\n",
       "      <th>zipcode</th>\n",
       "      <th>price</th>\n",
       "      <th>median_price</th>\n",
       "      <th>season</th>\n",
       "      <th>describe_condition</th>\n",
       "      <th>selling_price</th>\n",
       "      <th>profit</th>\n",
       "    </tr>\n",
       "  </thead>\n",
       "  <tbody>\n",
       "    <tr>\n",
       "      <th>0</th>\n",
       "      <td>7129300520</td>\n",
       "      <td>98178</td>\n",
       "      <td>221900.00</td>\n",
       "      <td>278277.00</td>\n",
       "      <td>Fall</td>\n",
       "      <td>median</td>\n",
       "      <td>288470.00</td>\n",
       "      <td>66570.00</td>\n",
       "    </tr>\n",
       "    <tr>\n",
       "      <th>1</th>\n",
       "      <td>4060000240</td>\n",
       "      <td>98178</td>\n",
       "      <td>205425.00</td>\n",
       "      <td>278277.00</td>\n",
       "      <td>Summer</td>\n",
       "      <td>good</td>\n",
       "      <td>267052.50</td>\n",
       "      <td>61627.50</td>\n",
       "    </tr>\n",
       "    <tr>\n",
       "      <th>2</th>\n",
       "      <td>4058801670</td>\n",
       "      <td>98178</td>\n",
       "      <td>445000.00</td>\n",
       "      <td>278277.00</td>\n",
       "      <td>Summer</td>\n",
       "      <td>median</td>\n",
       "      <td>489500.00</td>\n",
       "      <td>44500.00</td>\n",
       "    </tr>\n",
       "    <tr>\n",
       "      <th>3</th>\n",
       "      <td>2976800796</td>\n",
       "      <td>98178</td>\n",
       "      <td>236000.00</td>\n",
       "      <td>278277.00</td>\n",
       "      <td>Fall</td>\n",
       "      <td>median</td>\n",
       "      <td>306800.00</td>\n",
       "      <td>70800.00</td>\n",
       "    </tr>\n",
       "    <tr>\n",
       "      <th>4</th>\n",
       "      <td>6874200960</td>\n",
       "      <td>98178</td>\n",
       "      <td>170000.00</td>\n",
       "      <td>278277.00</td>\n",
       "      <td>Winter</td>\n",
       "      <td>median</td>\n",
       "      <td>221000.00</td>\n",
       "      <td>51000.00</td>\n",
       "    </tr>\n",
       "  </tbody>\n",
       "</table>\n",
       "</div>"
      ],
      "text/plain": [
       "           id  zipcode     price  median_price  season describe_condition  \\\n",
       "0  7129300520    98178 221900.00     278277.00    Fall             median   \n",
       "1  4060000240    98178 205425.00     278277.00  Summer               good   \n",
       "2  4058801670    98178 445000.00     278277.00  Summer             median   \n",
       "3  2976800796    98178 236000.00     278277.00    Fall             median   \n",
       "4  6874200960    98178 170000.00     278277.00  Winter             median   \n",
       "\n",
       "  selling_price   profit  \n",
       "0     288470.00 66570.00  \n",
       "1     267052.50 61627.50  \n",
       "2     489500.00 44500.00  \n",
       "3     306800.00 70800.00  \n",
       "4     221000.00 51000.00  "
      ]
     },
     "execution_count": 25,
     "metadata": {},
     "output_type": "execute_result"
    }
   ],
   "source": [
    "# relatório final: Sugestões de compra, com possíveis indicadores de preço de venda e lucro\n",
    "df2[['id','zipcode','price','median_price','season','describe_condition','selling_price','profit']].head()"
   ]
  }
 ],
 "metadata": {
  "kernelspec": {
   "display_name": "Python 3 (ipykernel)",
   "language": "python",
   "name": "python3"
  },
  "language_info": {
   "codemirror_mode": {
    "name": "ipython",
    "version": 3
   },
   "file_extension": ".py",
   "mimetype": "text/x-python",
   "name": "python",
   "nbconvert_exporter": "python",
   "pygments_lexer": "ipython3",
   "version": "3.8.13"
  }
 },
 "nbformat": 4,
 "nbformat_minor": 5
}
